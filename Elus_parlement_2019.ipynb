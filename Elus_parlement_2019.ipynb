{
 "cells": [
  {
   "cell_type": "code",
   "execution_count": 1,
   "metadata": {},
   "outputs": [],
   "source": [
    "import requests\n",
    "from bs4 import BeautifulSoup\n",
    "import pandas as pd\n",
    "import unicodedata\n",
    "import shutil\n",
    "import gender_guesser.detector as gg"
   ]
  },
  {
   "cell_type": "code",
   "execution_count": 2,
   "metadata": {},
   "outputs": [],
   "source": [
    "chambers = ['national', 'state']"
   ]
  },
  {
   "cell_type": "code",
   "execution_count": 3,
   "metadata": {},
   "outputs": [],
   "source": [
    "def removeAccents(input_str):\n",
    "    if isinstance(input_str, str):\n",
    "        nfkd_form = unicodedata.normalize('NFKD', input_str)\n",
    "        return u\"\".join([c for c in nfkd_form if not unicodedata.combining(c)])\n",
    "    else:\n",
    "        return input_str"
   ]
  },
  {
   "cell_type": "code",
   "execution_count": 4,
   "metadata": {},
   "outputs": [],
   "source": [
    "def getSlug(input_str):\n",
    "    if isinstance(input_str, str):\n",
    "        return removeAccents(input_str).replace(' ', '-').lower().replace('.', '').replace('/', '-')\n",
    "    else:\n",
    "        return input_str"
   ]
  },
  {
   "cell_type": "code",
   "execution_count": 5,
   "metadata": {},
   "outputs": [
    {
     "data": {
      "text/plain": [
       "'appenzall-rhode---interieur'"
      ]
     },
     "execution_count": 5,
     "metadata": {},
     "output_type": "execute_result"
    }
   ],
   "source": [
    "getSlug('Appénzäll Rhôde / Intèrïeur')"
   ]
  },
  {
   "cell_type": "markdown",
   "metadata": {},
   "source": [
    "# 1 – récupérer les tables\n",
    "### Inspect -> sauvegarder en local chaque table (générée en Angular)\n",
    "* national.html https://www.parlament.ch/fr/über-das-parlament/elections2019/election-conseil-etats-2019/conseil-des-etats-a-z\n",
    "* state.html https://www.parlament.ch/fr/über-das-parlament/elections2019/election-conseil-national-2019/conseil-national-a-z\n",
    "\n",
    "Idéalement, on aurait pris des données complètes et à jour sur\n",
    "https://opendata.swiss/fr/dataset/eidg-wahlen-2019, https://www.wahlen.admin.ch/data/sd-b-17.02-20191020-CH-gewaehlte.json etc…"
   ]
  },
  {
   "cell_type": "code",
   "execution_count": 6,
   "metadata": {},
   "outputs": [],
   "source": [
    "docs = {}\n",
    "rows = []\n",
    "\n",
    "for chamber in chambers:\n",
    "    with open(f'{chamber}.html', 'r') as f:\n",
    "        doc = BeautifulSoup(f.read(), 'html.parser')\n",
    "        tr = doc.select('tr')\n",
    "        \n",
    "        for row in tr[1:]: # skip header\n",
    "            therow = [i.text.strip() for i in row.select('td')]\n",
    "            img = row.select('td.profile-photo img')[0]\n",
    "            href = row.find('a').get('href')\n",
    "            therow.extend([img.get('src'), img.get('data-ng-alt').replace('Portrait de ', ''), href])\n",
    "            therow.append(chamber)\n",
    "            rows.append(therow)"
   ]
  },
  {
   "cell_type": "code",
   "execution_count": 9,
   "metadata": {},
   "outputs": [
    {
     "data": {
      "text/plain": [
       "(246, 12)"
      ]
     },
     "execution_count": 9,
     "metadata": {},
     "output_type": "execute_result"
    }
   ],
   "source": [
    "df = pd.DataFrame(rows, columns = ['', 'nom-inverse', 'canton', 'parti', 'job', 'sortant', 'naissance', 'voix', 'image', 'name', 'href', 'chambre'])\n",
    "df.shape\n",
    "# yeah"
   ]
  },
  {
   "cell_type": "code",
   "execution_count": 10,
   "metadata": {},
   "outputs": [
    {
     "data": {
      "text/html": [
       "<div>\n",
       "<style scoped>\n",
       "    .dataframe tbody tr th:only-of-type {\n",
       "        vertical-align: middle;\n",
       "    }\n",
       "\n",
       "    .dataframe tbody tr th {\n",
       "        vertical-align: top;\n",
       "    }\n",
       "\n",
       "    .dataframe thead th {\n",
       "        text-align: right;\n",
       "    }\n",
       "</style>\n",
       "<table border=\"1\" class=\"dataframe\">\n",
       "  <thead>\n",
       "    <tr style=\"text-align: right;\">\n",
       "      <th></th>\n",
       "      <th></th>\n",
       "      <th>nom-inverse</th>\n",
       "      <th>canton</th>\n",
       "      <th>parti</th>\n",
       "      <th>job</th>\n",
       "      <th>sortant</th>\n",
       "      <th>naissance</th>\n",
       "      <th>voix</th>\n",
       "      <th>image</th>\n",
       "      <th>name</th>\n",
       "      <th>href</th>\n",
       "      <th>chambre</th>\n",
       "    </tr>\n",
       "  </thead>\n",
       "  <tbody>\n",
       "    <tr>\n",
       "      <td>0</td>\n",
       "      <td></td>\n",
       "      <td>Addor Jean-Luc</td>\n",
       "      <td>Valais</td>\n",
       "      <td>UDC</td>\n",
       "      <td>Avocat</td>\n",
       "      <td>Sortant/E</td>\n",
       "      <td>1964</td>\n",
       "      <td>17535</td>\n",
       "      <td>/sitecollectionimages/profil/portrait-260/3055...</td>\n",
       "      <td>Jean-Luc Addor</td>\n",
       "      <td>/fr/biografie/jean-luc-addor/4154</td>\n",
       "      <td>national</td>\n",
       "    </tr>\n",
       "    <tr>\n",
       "      <td>1</td>\n",
       "      <td></td>\n",
       "      <td>Aebi Andreas</td>\n",
       "      <td>Berne</td>\n",
       "      <td>UDC</td>\n",
       "      <td>Landwirt</td>\n",
       "      <td>Sortant/E</td>\n",
       "      <td>1958</td>\n",
       "      <td>104955</td>\n",
       "      <td>/sitecollectionimages/profil/portrait-260/2670...</td>\n",
       "      <td>Andreas Aebi</td>\n",
       "      <td>/fr/biografie/andreas-aebi/3867</td>\n",
       "      <td>national</td>\n",
       "    </tr>\n",
       "    <tr>\n",
       "      <td>2</td>\n",
       "      <td></td>\n",
       "      <td>Aebischer Matthias</td>\n",
       "      <td>Berne</td>\n",
       "      <td>PS</td>\n",
       "      <td></td>\n",
       "      <td>Sortant/E</td>\n",
       "      <td>1967</td>\n",
       "      <td>63397</td>\n",
       "      <td>/sitecollectionimages/profil/portrait-260/2760...</td>\n",
       "      <td>Matthias Aebischer</td>\n",
       "      <td>/fr/biografie/matthias-aebischer/4049</td>\n",
       "      <td>national</td>\n",
       "    </tr>\n",
       "    <tr>\n",
       "      <td>3</td>\n",
       "      <td></td>\n",
       "      <td>Aeschi Thomas</td>\n",
       "      <td>Zoug</td>\n",
       "      <td>UDC</td>\n",
       "      <td>Unternehmensberater</td>\n",
       "      <td>Sortant/E</td>\n",
       "      <td>1979</td>\n",
       "      <td>15359</td>\n",
       "      <td>/sitecollectionimages/profil/portrait-260/2758...</td>\n",
       "      <td>Thomas Aeschi</td>\n",
       "      <td>/fr/biografie/thomas-aeschi/4053</td>\n",
       "      <td>national</td>\n",
       "    </tr>\n",
       "    <tr>\n",
       "      <td>4</td>\n",
       "      <td></td>\n",
       "      <td>Amaudruz Céline</td>\n",
       "      <td>Genève</td>\n",
       "      <td>UDC</td>\n",
       "      <td>Gestionnaire de fortune</td>\n",
       "      <td>Sortant/E</td>\n",
       "      <td>1979</td>\n",
       "      <td>16434</td>\n",
       "      <td>/sitecollectionimages/profil/portrait-260/2796...</td>\n",
       "      <td>Céline Amaudruz</td>\n",
       "      <td>/fr/biografie/c%C3%A9line-amaudruz/4090</td>\n",
       "      <td>national</td>\n",
       "    </tr>\n",
       "  </tbody>\n",
       "</table>\n",
       "</div>"
      ],
      "text/plain": [
       "            nom-inverse  canton parti                      job    sortant  \\\n",
       "0        Addor Jean-Luc  Valais   UDC                   Avocat  Sortant/E   \n",
       "1          Aebi Andreas   Berne   UDC                 Landwirt  Sortant/E   \n",
       "2    Aebischer Matthias   Berne    PS                           Sortant/E   \n",
       "3         Aeschi Thomas    Zoug   UDC      Unternehmensberater  Sortant/E   \n",
       "4       Amaudruz Céline  Genève   UDC  Gestionnaire de fortune  Sortant/E   \n",
       "\n",
       "  naissance    voix                                              image  \\\n",
       "0      1964   17535  /sitecollectionimages/profil/portrait-260/3055...   \n",
       "1      1958  104955  /sitecollectionimages/profil/portrait-260/2670...   \n",
       "2      1967   63397  /sitecollectionimages/profil/portrait-260/2760...   \n",
       "3      1979   15359  /sitecollectionimages/profil/portrait-260/2758...   \n",
       "4      1979   16434  /sitecollectionimages/profil/portrait-260/2796...   \n",
       "\n",
       "                 name                                     href   chambre  \n",
       "0      Jean-Luc Addor        /fr/biografie/jean-luc-addor/4154  national  \n",
       "1        Andreas Aebi          /fr/biografie/andreas-aebi/3867  national  \n",
       "2  Matthias Aebischer    /fr/biografie/matthias-aebischer/4049  national  \n",
       "3       Thomas Aeschi         /fr/biografie/thomas-aeschi/4053  national  \n",
       "4     Céline Amaudruz  /fr/biografie/c%C3%A9line-amaudruz/4090  national  "
      ]
     },
     "execution_count": 10,
     "metadata": {},
     "output_type": "execute_result"
    }
   ],
   "source": [
    "df.head()"
   ]
  },
  {
   "cell_type": "markdown",
   "metadata": {},
   "source": [
    "# 2 – récupérer et matcher les images"
   ]
  },
  {
   "cell_type": "code",
   "execution_count": 11,
   "metadata": {},
   "outputs": [],
   "source": [
    "df['image_remote'] = df['image'].apply(lambda x: f'https://www.parlament.ch{x}')"
   ]
  },
  {
   "cell_type": "code",
   "execution_count": 12,
   "metadata": {},
   "outputs": [],
   "source": [
    "# ou plus simple getSlug() a tester\n",
    "df['filename'] = df['name'].apply(removeAccents).apply(lambda x: x.strip().replace(' ', '-').replace(\"'\", '')).str.lower() + '.jpg'"
   ]
  },
  {
   "cell_type": "code",
   "execution_count": 13,
   "metadata": {},
   "outputs": [],
   "source": [
    "with open('imglist.txt', 'w') as fp:\n",
    "    fp.write( \"\\n\".join(df['image_remote'].tolist()) )"
   ]
  },
  {
   "cell_type": "code",
   "execution_count": 14,
   "metadata": {},
   "outputs": [],
   "source": [
    "# On récupère les 246 trombines officielles\n",
    "# a utiliser plutot dans le term sans \"quiet\" (ici pour pas flooder)\n",
    "# !wget -i imglist.txt -P img -q"
   ]
  },
  {
   "cell_type": "code",
   "execution_count": 15,
   "metadata": {},
   "outputs": [],
   "source": [
    "df['formerpath'] = df['image_remote'].apply(lambda x: x.split('/')[-1].strip()) # oui c'est des cochons -> tout stripper"
   ]
  },
  {
   "cell_type": "code",
   "execution_count": 16,
   "metadata": {},
   "outputs": [
    {
     "name": "stdout",
     "output_type": "stream",
     "text": [
      "......................................................................................................................................................................................................................................................"
     ]
    }
   ],
   "source": [
    "# On renomme\n",
    "for i, row in df.iterrows():\n",
    "    print('.', end='')\n",
    "    shutil.move(f\"img/{row['formerpath']}\", f\"img/{row['filename']}\")"
   ]
  },
  {
   "cell_type": "markdown",
   "metadata": {},
   "source": [
    "# 3 – traitement et export json"
   ]
  },
  {
   "cell_type": "code",
   "execution_count": 17,
   "metadata": {},
   "outputs": [],
   "source": [
    "for col in ['image', 'image_remote', 'formerpath']:\n",
    "    del df[col]"
   ]
  },
  {
   "cell_type": "code",
   "execution_count": 18,
   "metadata": {},
   "outputs": [],
   "source": [
    "df_genre = pd.read_excel('National.xls', usecols=['prénom', 'nom', 'genre'])\n",
    "df_genre['name'] = df_genre['prénom'] + ' ' + df_genre['nom']"
   ]
  },
  {
   "cell_type": "markdown",
   "metadata": {},
   "source": [
    "### Merge avec données OFS pour 99% du CN"
   ]
  },
  {
   "cell_type": "code",
   "execution_count": 19,
   "metadata": {},
   "outputs": [],
   "source": [
    "df = df.merge(df_genre[['name', 'genre']], on='name', how='left')"
   ]
  },
  {
   "cell_type": "code",
   "execution_count": 20,
   "metadata": {},
   "outputs": [
    {
     "data": {
      "text/plain": [
       "(50, 13)"
      ]
     },
     "execution_count": 20,
     "metadata": {},
     "output_type": "execute_result"
    }
   ],
   "source": [
    "df[df['genre'].isnull()].shape"
   ]
  },
  {
   "cell_type": "markdown",
   "metadata": {},
   "source": [
    "### Ajout du genre pour les 50 restants"
   ]
  },
  {
   "cell_type": "code",
   "execution_count": 21,
   "metadata": {},
   "outputs": [],
   "source": [
    "d = gg.Detector()"
   ]
  },
  {
   "cell_type": "code",
   "execution_count": 22,
   "metadata": {},
   "outputs": [],
   "source": [
    "df['name'] = df['name'].str.strip() # encore des foutus blancs"
   ]
  },
  {
   "cell_type": "code",
   "execution_count": 23,
   "metadata": {},
   "outputs": [
    {
     "name": "stdout",
     "output_type": "stream",
     "text": [
      "Mustafa Atici male\n",
      "Florence Brenzikofer female\n",
      "Niklaus-Samuel Gugger ✓\n",
      "Niklaus-Samuel Gugger male\n",
      "Lars Guggisberg male\n",
      "Alfred Heer male\n",
      "Stefani Heimgartner female\n",
      "Piero Marchesi male\n",
      "Isabelle Pasquier-Eichenberger female\n",
      "Stéfanie Prezioso Batou ✓\n",
      "Stéfanie Prezioso Batou female\n",
      "Valentine Python female\n",
      "Maja Riniker female\n",
      "Heinz Siegenthaler male\n",
      "Bruno Storni male\n",
      "Laurent Wehrli male\n",
      "Priska Wismer-Felder female\n",
      "Philippe Bauer male\n",
      "Elisabeth Baume-Schneider female\n",
      "Pirmin Bischof male\n",
      "Andrea Caroni ✓\n",
      "Andrea Caroni male\n",
      "Josef Dittli male\n",
      "Stefan Engler male\n",
      "Erich Ettlin male\n",
      "Daniel Fässler male\n",
      "Johanna Gapany female\n",
      "Hannes Germann male\n",
      "Brigitte Häberli-Koller female\n",
      "Thomas Hefti male\n",
      "Peter Hegglin male\n",
      "Daniel Jositsch male\n",
      "Charles Juillard male\n",
      "Alex Kuprecht male\n",
      "Christian Levrat male\n",
      "Marianne Maret female\n",
      "Matthias Michel male\n",
      "Thomas Minder male\n",
      "Damian Müller male\n",
      "Ruedi Noser male\n",
      "Paul Rechsteiner male\n",
      "Othmar Reichmuth male\n",
      "Beat Rieder male\n",
      "Martin Schmid male\n",
      "Carlo Sommaruga male\n",
      "Jakob Stark male\n",
      "Hans Stöckli male\n",
      "Céline Vara female\n",
      "Hans Wicki male\n",
      "Benedikt Würth male\n",
      "Roberto Zanetti male\n",
      "Heidi Z'graggen female\n",
      "Mathias Zopfi male\n"
     ]
    }
   ],
   "source": [
    "df['check-genre'] = 0\n",
    "for i, row in df[df['genre'].isnull()].iterrows():\n",
    "    gender = None\n",
    "    if row['name'] in ['Niklaus-Samuel Gugger', 'Andrea Caroni']:\n",
    "        print(row['name'], '✓')\n",
    "        gender = 'male'\n",
    "    elif row['name'] == 'Stéfanie Prezioso Batou':\n",
    "        print(row['name'], '✓')\n",
    "        gender = 'female'\n",
    "    else:\n",
    "        gender = d.get_gender(row['name'].split()[0])\n",
    "    print(row['name'], gender)\n",
    "    \n",
    "    df.at[i, 'genre'] = 'F' if gender == 'female' else 'M'\n",
    "    df.at[i, 'check-genre'] = 1"
   ]
  },
  {
   "cell_type": "code",
   "execution_count": 24,
   "metadata": {},
   "outputs": [],
   "source": [
    "df[df['check-genre'] == 1].to_excel('check-genre.xlsx')\n",
    "!open check-genre.xlsx"
   ]
  },
  {
   "cell_type": "markdown",
   "metadata": {},
   "source": [
    "### Catégorie «nouveaux» accordée au genre"
   ]
  },
  {
   "cell_type": "code",
   "execution_count": 25,
   "metadata": {},
   "outputs": [],
   "source": [
    "for i, row in df[df['name'].str.contains('Fischer|Prelicz')].iterrows():\n",
    "    df.at[i, 'sortant'] = 'Nouveau'"
   ]
  },
  {
   "cell_type": "code",
   "execution_count": 26,
   "metadata": {},
   "outputs": [],
   "source": [
    "df['new'] = ''\n",
    "for i, row in df.iterrows():\n",
    "    if row['sortant'] != row['sortant']:\n",
    "        continue\n",
    "        \n",
    "    if row['sortant'].find('Nouve') >= 0:\n",
    "        if row['genre'] == 'F':\n",
    "            df.at[i, 'new'] = 'Nouvelle élue'\n",
    "        else:\n",
    "            df.at[i, 'new'] = 'Nouvel élu'"
   ]
  },
  {
   "cell_type": "code",
   "execution_count": 27,
   "metadata": {},
   "outputs": [
    {
     "data": {
      "text/plain": [
       "(88, 15)"
      ]
     },
     "execution_count": 27,
     "metadata": {},
     "output_type": "execute_result"
    }
   ],
   "source": [
    "# A checker: 86 nouveaux?\n",
    "df[df['new'] != ''].shape"
   ]
  },
  {
   "cell_type": "code",
   "execution_count": 28,
   "metadata": {},
   "outputs": [
    {
     "data": {
      "text/plain": [
       "chambre   new          \n",
       "national                   133\n",
       "          Nouvelle élue     37\n",
       "          Nouvel élu        30\n",
       "state                       25\n",
       "          Nouvelle élue     11\n",
       "          Nouvel élu        10\n",
       "Name: new, dtype: int64"
      ]
     },
     "execution_count": 28,
     "metadata": {},
     "output_type": "execute_result"
    }
   ],
   "source": [
    "df.groupby('chambre')['new'].value_counts()"
   ]
  },
  {
   "cell_type": "code",
   "execution_count": 29,
   "metadata": {},
   "outputs": [
    {
     "data": {
      "text/plain": [
       "UDC         59\n",
       "PS          48\n",
       "PLR         40\n",
       "PDC         37\n",
       "PES         33\n",
       "PVL         16\n",
       "PEV          3\n",
       "PBD          3\n",
       "UDF          1\n",
       "Lega         1\n",
       "EAG          1\n",
       "Autres       1\n",
       "PL           1\n",
       "PST/Sol.     1\n",
       "             1\n",
       "Name: parti, dtype: int64"
      ]
     },
     "execution_count": 29,
     "metadata": {},
     "output_type": "execute_result"
    }
   ],
   "source": [
    "df['parti'].value_counts()"
   ]
  },
  {
   "cell_type": "code",
   "execution_count": 30,
   "metadata": {},
   "outputs": [],
   "source": [
    "def longParti(value):\n",
    "    parti_matches = {\n",
    "        'PVL': 'Vert’libéraux',\n",
    "        'PEV': 'Parti évangélique',\n",
    "        #'PL': 'Parti libéral démocrate',\n",
    "        'PL': 'PLR',\n",
    "        'PES': 'Verts',\n",
    "        'EAG': 'Ensemble à gauche',\n",
    "        'PST/Sol.': 'Parti du travail'\n",
    "    }\n",
    "    \n",
    "    if value in parti_matches.keys():\n",
    "        return parti_matches[value]\n",
    "    else:\n",
    "        return value\n",
    "df['parti-long'] = df['parti'].apply(longParti)"
   ]
  },
  {
   "cell_type": "code",
   "execution_count": 31,
   "metadata": {},
   "outputs": [],
   "source": [
    "df['image'] = df['filename']\n",
    "del df['filename']"
   ]
  },
  {
   "cell_type": "markdown",
   "metadata": {},
   "source": [
    "### Filtres"
   ]
  },
  {
   "cell_type": "code",
   "execution_count": 32,
   "metadata": {},
   "outputs": [],
   "source": [
    "df['is-new'] = df['new'].apply(lambda x: 'is-new' if x != '' else '')\n",
    "df['canton-filter'] = df['canton'].apply(getSlug)"
   ]
  },
  {
   "cell_type": "code",
   "execution_count": 33,
   "metadata": {},
   "outputs": [],
   "source": [
    "df['new-filter'] = df['new'].apply(lambda x: 'old' if x == '' else 'new')"
   ]
  },
  {
   "cell_type": "code",
   "execution_count": 34,
   "metadata": {},
   "outputs": [],
   "source": [
    "# Tri par nom de famille\n",
    "df.sort_values('nom-inverse', inplace=True)"
   ]
  },
  {
   "cell_type": "code",
   "execution_count": 35,
   "metadata": {},
   "outputs": [],
   "source": [
    "# Emploi indiqué\n",
    "def shortenJob(value):\n",
    "    if value != value:\n",
    "        return ''\n",
    "    elif len(value) < 45:\n",
    "        return value\n",
    "    else:\n",
    "        return value[:45] + '…'\n",
    "    \n",
    "df['job-short'] = df['job'].apply(shortenJob)"
   ]
  },
  {
   "cell_type": "code",
   "execution_count": 36,
   "metadata": {},
   "outputs": [
    {
     "data": {
      "text/html": [
       "<div>\n",
       "<style scoped>\n",
       "    .dataframe tbody tr th:only-of-type {\n",
       "        vertical-align: middle;\n",
       "    }\n",
       "\n",
       "    .dataframe tbody tr th {\n",
       "        vertical-align: top;\n",
       "    }\n",
       "\n",
       "    .dataframe thead th {\n",
       "        text-align: right;\n",
       "    }\n",
       "</style>\n",
       "<table border=\"1\" class=\"dataframe\">\n",
       "  <thead>\n",
       "    <tr style=\"text-align: right;\">\n",
       "      <th></th>\n",
       "      <th></th>\n",
       "      <th>nom-inverse</th>\n",
       "      <th>canton</th>\n",
       "      <th>parti</th>\n",
       "      <th>job</th>\n",
       "      <th>sortant</th>\n",
       "      <th>naissance</th>\n",
       "      <th>voix</th>\n",
       "      <th>name</th>\n",
       "      <th>href</th>\n",
       "      <th>chambre</th>\n",
       "      <th>genre</th>\n",
       "      <th>check-genre</th>\n",
       "      <th>new</th>\n",
       "      <th>parti-long</th>\n",
       "      <th>image</th>\n",
       "      <th>is-new</th>\n",
       "      <th>canton-filter</th>\n",
       "      <th>new-filter</th>\n",
       "      <th>job-short</th>\n",
       "    </tr>\n",
       "  </thead>\n",
       "  <tbody>\n",
       "    <tr>\n",
       "      <td>199</td>\n",
       "      <td></td>\n",
       "      <td>Zuberbühler David</td>\n",
       "      <td>Appenzell Rh.-Ext.</td>\n",
       "      <td>UDC</td>\n",
       "      <td>Unternehmer</td>\n",
       "      <td>Sortant/E</td>\n",
       "      <td>1979</td>\n",
       "      <td>7720</td>\n",
       "      <td>David Zuberbühler</td>\n",
       "      <td>/fr/biografie/david-zuberb%C3%BChler/4179</td>\n",
       "      <td>national</td>\n",
       "      <td>M</td>\n",
       "      <td>0</td>\n",
       "      <td></td>\n",
       "      <td>UDC</td>\n",
       "      <td>david-zuberbuhler.jpg</td>\n",
       "      <td></td>\n",
       "      <td>appenzell-rh-ext</td>\n",
       "      <td>old</td>\n",
       "      <td>Unternehmer</td>\n",
       "    </tr>\n",
       "    <tr>\n",
       "      <td>37</td>\n",
       "      <td></td>\n",
       "      <td>de Courten Thomas</td>\n",
       "      <td>Bâle-Campagne</td>\n",
       "      <td>UDC</td>\n",
       "      <td>Selbständiger Unternehmer</td>\n",
       "      <td>Sortant/E</td>\n",
       "      <td>1966</td>\n",
       "      <td>24498</td>\n",
       "      <td>Thomas de Courten</td>\n",
       "      <td>/fr/biografie/thomas-de-courten/4051</td>\n",
       "      <td>national</td>\n",
       "      <td>M</td>\n",
       "      <td>0</td>\n",
       "      <td></td>\n",
       "      <td>UDC</td>\n",
       "      <td>thomas-de-courten.jpg</td>\n",
       "      <td></td>\n",
       "      <td>bale-campagne</td>\n",
       "      <td>old</td>\n",
       "      <td>Selbständiger Unternehmer</td>\n",
       "    </tr>\n",
       "    <tr>\n",
       "      <td>40</td>\n",
       "      <td></td>\n",
       "      <td>de Quattro Jacqueline</td>\n",
       "      <td>Vaud</td>\n",
       "      <td>PLR</td>\n",
       "      <td></td>\n",
       "      <td>Nouveau/Nouvelle</td>\n",
       "      <td>1960</td>\n",
       "      <td>44996</td>\n",
       "      <td>Jacqueline de Quattro</td>\n",
       "      <td>http://www.dequattro.ch/</td>\n",
       "      <td>national</td>\n",
       "      <td>F</td>\n",
       "      <td>0</td>\n",
       "      <td>Nouvelle élue</td>\n",
       "      <td>PLR</td>\n",
       "      <td>jacqueline-de-quattro.jpg</td>\n",
       "      <td>is-new</td>\n",
       "      <td>vaud</td>\n",
       "      <td>new</td>\n",
       "      <td></td>\n",
       "    </tr>\n",
       "    <tr>\n",
       "      <td>38</td>\n",
       "      <td></td>\n",
       "      <td>de la Reussille Denis</td>\n",
       "      <td>Neuchâtel</td>\n",
       "      <td>PST/Sol.</td>\n",
       "      <td></td>\n",
       "      <td>Sortant/E</td>\n",
       "      <td>1960</td>\n",
       "      <td>9761</td>\n",
       "      <td>Denis de la Reussille</td>\n",
       "      <td>/fr/biografie/denis-de-la-reussille/4201</td>\n",
       "      <td>national</td>\n",
       "      <td>M</td>\n",
       "      <td>0</td>\n",
       "      <td></td>\n",
       "      <td>Parti du travail</td>\n",
       "      <td>denis-de-la-reussille.jpg</td>\n",
       "      <td></td>\n",
       "      <td>neuchatel</td>\n",
       "      <td>old</td>\n",
       "      <td></td>\n",
       "    </tr>\n",
       "    <tr>\n",
       "      <td>186</td>\n",
       "      <td></td>\n",
       "      <td>von Siebenthal Erich</td>\n",
       "      <td>Berne</td>\n",
       "      <td>UDC</td>\n",
       "      <td>Bergbauer</td>\n",
       "      <td>Sortant/E</td>\n",
       "      <td>1958</td>\n",
       "      <td>101660</td>\n",
       "      <td>Erich von Siebenthal</td>\n",
       "      <td>/fr/biografie/erich-von-siebenthal/3910</td>\n",
       "      <td>national</td>\n",
       "      <td>M</td>\n",
       "      <td>0</td>\n",
       "      <td></td>\n",
       "      <td>UDC</td>\n",
       "      <td>erich-von-siebenthal.jpg</td>\n",
       "      <td></td>\n",
       "      <td>berne</td>\n",
       "      <td>old</td>\n",
       "      <td>Bergbauer</td>\n",
       "    </tr>\n",
       "  </tbody>\n",
       "</table>\n",
       "</div>"
      ],
      "text/plain": [
       "                 nom-inverse              canton     parti  \\\n",
       "199        Zuberbühler David  Appenzell Rh.-Ext.       UDC   \n",
       "37         de Courten Thomas       Bâle-Campagne       UDC   \n",
       "40     de Quattro Jacqueline                Vaud       PLR   \n",
       "38     de la Reussille Denis           Neuchâtel  PST/Sol.   \n",
       "186     von Siebenthal Erich               Berne       UDC   \n",
       "\n",
       "                           job           sortant naissance    voix  \\\n",
       "199                Unternehmer         Sortant/E      1979    7720   \n",
       "37   Selbständiger Unternehmer         Sortant/E      1966   24498   \n",
       "40                              Nouveau/Nouvelle      1960   44996   \n",
       "38                                     Sortant/E      1960    9761   \n",
       "186                  Bergbauer         Sortant/E      1958  101660   \n",
       "\n",
       "                      name                                       href  \\\n",
       "199      David Zuberbühler  /fr/biografie/david-zuberb%C3%BChler/4179   \n",
       "37       Thomas de Courten       /fr/biografie/thomas-de-courten/4051   \n",
       "40   Jacqueline de Quattro                   http://www.dequattro.ch/   \n",
       "38   Denis de la Reussille   /fr/biografie/denis-de-la-reussille/4201   \n",
       "186   Erich von Siebenthal    /fr/biografie/erich-von-siebenthal/3910   \n",
       "\n",
       "      chambre genre  check-genre            new        parti-long  \\\n",
       "199  national     M            0                              UDC   \n",
       "37   national     M            0                              UDC   \n",
       "40   national     F            0  Nouvelle élue               PLR   \n",
       "38   national     M            0                 Parti du travail   \n",
       "186  national     M            0                              UDC   \n",
       "\n",
       "                         image  is-new     canton-filter new-filter  \\\n",
       "199      david-zuberbuhler.jpg          appenzell-rh-ext        old   \n",
       "37       thomas-de-courten.jpg             bale-campagne        old   \n",
       "40   jacqueline-de-quattro.jpg  is-new              vaud        new   \n",
       "38   denis-de-la-reussille.jpg                 neuchatel        old   \n",
       "186   erich-von-siebenthal.jpg                     berne        old   \n",
       "\n",
       "                     job-short  \n",
       "199                Unternehmer  \n",
       "37   Selbständiger Unternehmer  \n",
       "40                              \n",
       "38                              \n",
       "186                  Bergbauer  "
      ]
     },
     "execution_count": 36,
     "metadata": {},
     "output_type": "execute_result"
    }
   ],
   "source": [
    "df.tail()"
   ]
  },
  {
   "cell_type": "code",
   "execution_count": 37,
   "metadata": {},
   "outputs": [],
   "source": [
    "df['name-search'] = df['name'].apply(removeAccents).str.replace(' ', '+')"
   ]
  },
  {
   "cell_type": "code",
   "execution_count": 38,
   "metadata": {},
   "outputs": [],
   "source": [
    "df['naissance'] = df['naissance'].astype(int)"
   ]
  },
  {
   "cell_type": "code",
   "execution_count": 39,
   "metadata": {},
   "outputs": [],
   "source": [
    "def getAgeCat(birthyear):\n",
    "    if birthyear >= 1970 and birthyear < 1980:\n",
    "        return '_1970s'\n",
    "    elif birthyear >= 1980 and birthyear < 1990:\n",
    "        return '_1980s'\n",
    "    elif birthyear >= 1990 and birthyear < 2000:\n",
    "        return '_1990s'\n",
    "    elif birthyear < 1970:\n",
    "        return 'pre-1970'\n",
    "    else:\n",
    "        print('Error with', birthyear)\n",
    "df['age-filter'] = df['naissance'].apply(getAgeCat)"
   ]
  },
  {
   "cell_type": "code",
   "execution_count": 40,
   "metadata": {},
   "outputs": [
    {
     "data": {
      "text/plain": [
       "pre-1970    139\n",
       "_1970s       57\n",
       "_1980s       43\n",
       "_1990s        7\n",
       "Name: age-filter, dtype: int64"
      ]
     },
     "execution_count": 40,
     "metadata": {},
     "output_type": "execute_result"
    }
   ],
   "source": [
    "df['age-filter'].value_counts()"
   ]
  },
  {
   "cell_type": "code",
   "execution_count": 41,
   "metadata": {},
   "outputs": [],
   "source": [
    "df['canton-filter'] = df['canton'].apply(getSlug)\n",
    "df['parti-filter'] = df['parti'].apply(getSlug)"
   ]
  },
  {
   "cell_type": "code",
   "execution_count": 42,
   "metadata": {
    "scrolled": true
   },
   "outputs": [
    {
     "data": {
      "text/html": [
       "<div>\n",
       "<style scoped>\n",
       "    .dataframe tbody tr th:only-of-type {\n",
       "        vertical-align: middle;\n",
       "    }\n",
       "\n",
       "    .dataframe tbody tr th {\n",
       "        vertical-align: top;\n",
       "    }\n",
       "\n",
       "    .dataframe thead th {\n",
       "        text-align: right;\n",
       "    }\n",
       "</style>\n",
       "<table border=\"1\" class=\"dataframe\">\n",
       "  <thead>\n",
       "    <tr style=\"text-align: right;\">\n",
       "      <th></th>\n",
       "      <th></th>\n",
       "      <th>nom-inverse</th>\n",
       "      <th>canton</th>\n",
       "      <th>parti</th>\n",
       "      <th>job</th>\n",
       "      <th>sortant</th>\n",
       "      <th>naissance</th>\n",
       "      <th>voix</th>\n",
       "      <th>name</th>\n",
       "      <th>href</th>\n",
       "      <th>...</th>\n",
       "      <th>new</th>\n",
       "      <th>parti-long</th>\n",
       "      <th>image</th>\n",
       "      <th>is-new</th>\n",
       "      <th>canton-filter</th>\n",
       "      <th>new-filter</th>\n",
       "      <th>job-short</th>\n",
       "      <th>name-search</th>\n",
       "      <th>age-filter</th>\n",
       "      <th>parti-filter</th>\n",
       "    </tr>\n",
       "  </thead>\n",
       "  <tbody>\n",
       "    <tr>\n",
       "      <td>52</td>\n",
       "      <td></td>\n",
       "      <td>Fischer Roland</td>\n",
       "      <td>Lucerne</td>\n",
       "      <td>PVL</td>\n",
       "      <td></td>\n",
       "      <td>Nouveau</td>\n",
       "      <td>1965</td>\n",
       "      <td>10982</td>\n",
       "      <td>Roland Fischer</td>\n",
       "      <td>/fr/biografie/roland-fischer/4089</td>\n",
       "      <td>...</td>\n",
       "      <td>Nouvel élu</td>\n",
       "      <td>Vert’libéraux</td>\n",
       "      <td>roland-fischer.jpg</td>\n",
       "      <td>is-new</td>\n",
       "      <td>lucerne</td>\n",
       "      <td>new</td>\n",
       "      <td></td>\n",
       "      <td>Roland+Fischer</td>\n",
       "      <td>pre-1970</td>\n",
       "      <td>pvl</td>\n",
       "    </tr>\n",
       "    <tr>\n",
       "      <td>139</td>\n",
       "      <td></td>\n",
       "      <td>Prelicz-Huber Katharina</td>\n",
       "      <td>Zurich</td>\n",
       "      <td>PES</td>\n",
       "      <td></td>\n",
       "      <td>Nouveau</td>\n",
       "      <td>1959</td>\n",
       "      <td>70499</td>\n",
       "      <td>Katharina Prelicz-Huber</td>\n",
       "      <td>/fr/biografie/katharina-prelicz-huber/3999</td>\n",
       "      <td>...</td>\n",
       "      <td>Nouvelle élue</td>\n",
       "      <td>Verts</td>\n",
       "      <td>katharina-prelicz-huber.jpg</td>\n",
       "      <td>is-new</td>\n",
       "      <td>zurich</td>\n",
       "      <td>new</td>\n",
       "      <td></td>\n",
       "      <td>Katharina+Prelicz-Huber</td>\n",
       "      <td>pre-1970</td>\n",
       "      <td>pes</td>\n",
       "    </tr>\n",
       "  </tbody>\n",
       "</table>\n",
       "<p>2 rows × 23 columns</p>\n",
       "</div>"
      ],
      "text/plain": [
       "                   nom-inverse   canton parti job  sortant  naissance   voix  \\\n",
       "52              Fischer Roland  Lucerne   PVL      Nouveau       1965  10982   \n",
       "139    Prelicz-Huber Katharina   Zurich   PES      Nouveau       1959  70499   \n",
       "\n",
       "                        name                                        href  ...  \\\n",
       "52            Roland Fischer           /fr/biografie/roland-fischer/4089  ...   \n",
       "139  Katharina Prelicz-Huber  /fr/biografie/katharina-prelicz-huber/3999  ...   \n",
       "\n",
       "               new     parti-long                        image  is-new  \\\n",
       "52      Nouvel élu  Vert’libéraux           roland-fischer.jpg  is-new   \n",
       "139  Nouvelle élue          Verts  katharina-prelicz-huber.jpg  is-new   \n",
       "\n",
       "    canton-filter new-filter job-short              name-search age-filter  \\\n",
       "52        lucerne        new                     Roland+Fischer   pre-1970   \n",
       "139        zurich        new            Katharina+Prelicz-Huber   pre-1970   \n",
       "\n",
       "    parti-filter  \n",
       "52           pvl  \n",
       "139          pes  \n",
       "\n",
       "[2 rows x 23 columns]"
      ]
     },
     "execution_count": 42,
     "metadata": {},
     "output_type": "execute_result"
    }
   ],
   "source": [
    "df[df['name'].str.contains('Fischer|Prelicz')]"
   ]
  },
  {
   "cell_type": "code",
   "execution_count": 43,
   "metadata": {},
   "outputs": [],
   "source": [
    "df['slug'] = df['name'].apply(getSlug)"
   ]
  },
  {
   "cell_type": "code",
   "execution_count": 44,
   "metadata": {},
   "outputs": [],
   "source": [
    "df['chambre_tag'] = df['chambre'].apply(lambda x: 'Etats' if x == 'state' else 'National')"
   ]
  },
  {
   "cell_type": "code",
   "execution_count": 45,
   "metadata": {
    "scrolled": true
   },
   "outputs": [
    {
     "data": {
      "text/plain": [
       "national    200\n",
       "state        46\n",
       "Name: chambre, dtype: int64"
      ]
     },
     "execution_count": 45,
     "metadata": {},
     "output_type": "execute_result"
    }
   ],
   "source": [
    "df['chambre'].value_counts()"
   ]
  },
  {
   "cell_type": "code",
   "execution_count": 46,
   "metadata": {},
   "outputs": [],
   "source": [
    "df['job'] = df['job'].apply(lambda x: x if x != '' else 'Non indiqué')"
   ]
  },
  {
   "cell_type": "code",
   "execution_count": 47,
   "metadata": {},
   "outputs": [
    {
     "data": {
      "text/plain": [
       "M    151\n",
       "F     95\n",
       "Name: genre, dtype: int64"
      ]
     },
     "execution_count": 47,
     "metadata": {},
     "output_type": "execute_result"
    }
   ],
   "source": [
    "df['genre'].value_counts()"
   ]
  },
  {
   "cell_type": "code",
   "execution_count": 49,
   "metadata": {},
   "outputs": [
    {
     "data": {
      "text/plain": [
       "chambre   genre\n",
       "national  M        117\n",
       "          F         83\n",
       "state     M         34\n",
       "          F         12\n",
       "Name: genre, dtype: int64"
      ]
     },
     "execution_count": 49,
     "metadata": {},
     "output_type": "execute_result"
    }
   ],
   "source": [
    "df.groupby('chambre')['genre'].value_counts()"
   ]
  },
  {
   "cell_type": "markdown",
   "metadata": {},
   "source": [
    "# 4 – Export json"
   ]
  },
  {
   "cell_type": "code",
   "execution_count": 50,
   "metadata": {},
   "outputs": [],
   "source": [
    "df.to_json('/Users/rnp/Sites/parlement-2019/json/parliament.json', orient='records')"
   ]
  },
  {
   "cell_type": "markdown",
   "metadata": {},
   "source": [
    "## HTML"
   ]
  },
  {
   "cell_type": "code",
   "execution_count": 51,
   "metadata": {
    "scrolled": true
   },
   "outputs": [
    {
     "name": "stdout",
     "output_type": "stream",
     "text": [
      "<li class=\"mdl-menu__item\" data-filter=\".\"></li>\n",
      "<li class=\"mdl-menu__item\" data-filter=\".Autres\">Autres</li>\n",
      "<li class=\"mdl-menu__item\" data-filter=\".EAG\">Ensemble à gauche</li>\n",
      "<li class=\"mdl-menu__item\" data-filter=\".Lega\">Lega</li>\n",
      "<li class=\"mdl-menu__item\" data-filter=\".PBD\">PBD</li>\n",
      "<li class=\"mdl-menu__item\" data-filter=\".PDC\">PDC</li>\n",
      "<li class=\"mdl-menu__item\" data-filter=\".PES\">Verts</li>\n",
      "<li class=\"mdl-menu__item\" data-filter=\".PEV\">Parti évangélique</li>\n",
      "<li class=\"mdl-menu__item\" data-filter=\".PL\">PLR</li>\n",
      "<li class=\"mdl-menu__item\" data-filter=\".PLR\">PLR</li>\n",
      "<li class=\"mdl-menu__item\" data-filter=\".PS\">PS</li>\n",
      "<li class=\"mdl-menu__item\" data-filter=\".PST/Sol.\">Parti du travail</li>\n",
      "<li class=\"mdl-menu__item\" data-filter=\".PVL\">Vert’libéraux</li>\n",
      "<li class=\"mdl-menu__item\" data-filter=\".UDC\">UDC</li>\n",
      "<li class=\"mdl-menu__item\" data-filter=\".UDF\">UDF</li>\n"
     ]
    }
   ],
   "source": [
    "print(*[f'<li class=\"mdl-menu__item\" data-filter=\".{removeAccents(i)}\">{longParti(i)}</li>' for i in sorted(list(set(df['parti'].value_counts().index)))], sep='\\n')"
   ]
  },
  {
   "cell_type": "code",
   "execution_count": 53,
   "metadata": {},
   "outputs": [
    {
     "name": "stdout",
     "output_type": "stream",
     "text": [
      "<li class=\"mdl-menu__item\" data-filter=\".pre-1970\">pre-1970</li>\n",
      "<li class=\"mdl-menu__item\" data-filter=\"._1970s\">_1970s</li>\n",
      "<li class=\"mdl-menu__item\" data-filter=\"._1980s\">_1980s</li>\n",
      "<li class=\"mdl-menu__item\" data-filter=\"._1990s\">_1990s</li>\n"
     ]
    }
   ],
   "source": [
    "for i in df['age-filter'].value_counts().index:\n",
    "    print(f'<li class=\"mdl-menu__item\" data-filter=\".{i}\">{i}</li>')"
   ]
  },
  {
   "cell_type": "code",
   "execution_count": null,
   "metadata": {},
   "outputs": [],
   "source": []
  }
 ],
 "metadata": {
  "kernelspec": {
   "display_name": "Python 3",
   "language": "python",
   "name": "python3"
  },
  "language_info": {
   "codemirror_mode": {
    "name": "ipython",
    "version": 3
   },
   "file_extension": ".py",
   "mimetype": "text/x-python",
   "name": "python",
   "nbconvert_exporter": "python",
   "pygments_lexer": "ipython3",
   "version": "3.7.4"
  }
 },
 "nbformat": 4,
 "nbformat_minor": 2
}
